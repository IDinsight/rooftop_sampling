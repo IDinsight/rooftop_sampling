{
 "cells": [
  {
   "cell_type": "markdown",
   "metadata": {},
   "source": [
    "# Get barangay ID for each rooftop\n",
    "I spatial join the rooftops and barangay files so that each rooftop is assigned to a single barangay and then save the rooftop file. This makes it a lot easier to sample later. Note that the saved filed only has two columns -- PSGC (i.e. barangay ID) and geomtry (rooftop centroid). Stripping the dataset down to two columns speed up processing quite a bit."
   ]
  },
  {
   "cell_type": "code",
   "execution_count": 4,
   "metadata": {},
   "outputs": [],
   "source": [
    "import geopandas as gpd\n",
    "from pathlib import Path"
   ]
  },
  {
   "cell_type": "code",
   "execution_count": 5,
   "metadata": {},
   "outputs": [],
   "source": [
    "DB_DIR = Path.home() / 'IDinsight Dropbox' / 'Random Walk Testing' \n",
    "ROOFTOP_DIR = DB_DIR /'01_Raw data'/ '01_Rooftop'/'Philippines'\n",
    "OUTPUT_DIR = DB_DIR / '03_Output' / '05_HPLS qual'\n",
    "\n",
    "barangays_w_borders = gpd.read_parquet(DB_DIR / '01_Raw data'/'02_Admin boundary data'/'Philippines' / 'barangays_w_borders.parquet')"
   ]
  },
  {
   "cell_type": "code",
   "execution_count": null,
   "metadata": {},
   "outputs": [],
   "source": [
    "s2_cells = barangays_w_borders['s2_cell_id'].unique()\n",
    "\n",
    "# manually reorder by size. This helps with testing since it takes several minutes just to load the largest rooftop file\n",
    "s2_cells = [3778520087363846144, 3733484091090141184, 3616390500778508288, 3679440895561695232, 3625397700033249280, 3670433696306954240, 3724476891835400192, 3715469692580659200]\n",
    "\n",
    "# only keep columns geometry, PSGC, and s2_cell_id\n",
    "barangays_w_borders = barangays_w_borders[['geometry', 'PSGC', 's2_cell_id']]\n",
    "barangays_w_borders.sindex\n",
    "\n",
    "for s2_cell_id in s2_cells:\n",
    "    print(f\"\\nProcessing s2 cell {s2_cell_id}\")\n",
    "    # barangays_in_s2_cell = barangays_w_borders[barangays_w_borders['s2_cell_id'] == s2_cell_id]\n",
    "    rooftops_gdf = gpd.read_parquet(ROOFTOP_DIR / f'{s2_cell_id}.parquet')\n",
    "\n",
    "    # only keep the geometry column\n",
    "    rooftops_gdf = rooftops_gdf[['geometry']]\n",
    "\n",
    "    # replace geometry column with the centroid of the geometry\n",
    "    rooftops_gdf = rooftops_gdf.set_geometry(rooftops_gdf.geometry.centroid)\n",
    "    rooftops_gdf = rooftops_gdf.to_crs(epsg=4326)\n",
    "\n",
    "    # create spatial index if it doesn't exist\n",
    "    rooftops_gdf.sindex\n",
    "\n",
    "    # Spatial join for filtering\n",
    "    rooftops_in_barangays = gpd.sjoin(rooftops_gdf, barangays_w_borders, how='left', predicate='within')\n",
    "\n",
    "    # save the rooftops in the barangays\n",
    "    rooftops_in_barangays.to_parquet(ROOFTOP_DIR / f'{s2_cell_id}_w_brgys.parquet')\n"
   ]
  },
  {
   "cell_type": "markdown",
   "metadata": {},
   "source": [
    "# Inspect rooftop files for missing barangay data\n",
    "Check the number of rooftops with missing barangay data and create map showing location of rooftops with missing barangay data"
   ]
  },
  {
   "cell_type": "code",
   "execution_count": 7,
   "metadata": {},
   "outputs": [
    {
     "name": "stdout",
     "output_type": "stream",
     "text": [
      "3778520087363846144: 0.002885308968502044\n",
      "3733484091090141184: 0.0033855941831401953\n",
      "3616390500778508288: 0.017769951891763204\n",
      "3679440895561695232: 0.007441745800161212\n",
      "3625397700033249280: 0.021392945755108278\n",
      "3670433696306954240: 0.0033330940452083973\n",
      "3724476891835400192: 0.021807979168979544\n",
      "3715469692580659200: 0.001561929329977971\n"
     ]
    }
   ],
   "source": [
    "s2_cells = [3778520087363846144, 3733484091090141184, 3616390500778508288, 3679440895561695232, 3625397700033249280, 3670433696306954240, 3724476891835400192, 3715469692580659200]\n",
    "\n",
    "\n",
    "total_missing = 0\n",
    "total_rooftops = 0\n",
    "\n",
    "for s2_cell in s2_cells:\n",
    "    temp = gpd.read_parquet(ROOFTOP_DIR / f'{s2_cell}_w_brgys.parquet')\n",
    "    missing_count = sum(temp[\"PSGC\"].isna())\n",
    "    total_count = len(temp)\n",
    "    \n",
    "    total_missing += missing_count\n",
    "    total_rooftops += total_count\n",
    "    \n",
    "    print(f'{s2_cell}: {missing_count/total_count}')\n",
    "\n",
    "total_share_missing = total_missing / total_rooftops\n",
    "print(f'Total share of rooftops with no barangay data: {total_share_missing}')"
   ]
  },
  {
   "cell_type": "markdown",
   "metadata": {},
   "source": [
    "# Create map of rooftops with missing barangays [CODE NO LONGER NEEDED. MISSING BRGY DATA SOLVED]"
   ]
  },
  {
   "cell_type": "code",
   "execution_count": null,
   "metadata": {},
   "outputs": [],
   "source": [
    "# for the one rooftop file that has a high proportion of rooftops without barangay data, plot the location of rooftops without barangay data\n",
    "import folium\n",
    "\n",
    "file_w_lots_nas = gpd.read_parquet(ROOFTOP_DIR / '3724476891835400192_w_brgys.parquet')\n",
    "rooftops_no_brgy = file_w_lots_nas[file_w_lots_nas['PSGC'].isna()]\n",
    "\n",
    "gdf_sampled = rooftops_no_brgy.iloc[::500, :]\n",
    "\n",
    "# Compute a center for the map based on the mean coordinates (or define your own center)\n",
    "mean_lat = gdf_sampled.geometry.y.mean()\n",
    "mean_lon = gdf_sampled.geometry.x.mean()\n",
    "\n",
    "# Create a Folium map\n",
    "m = folium.Map(location=[mean_lat, mean_lon], zoom_start=5)\n",
    "\n",
    "# Add sampled points as markers\n",
    "for _, row in gdf_sampled.iterrows():\n",
    "    folium.CircleMarker(\n",
    "        location=[row.geometry.y, row.geometry.x],\n",
    "        radius=2,\n",
    "        color='blue',\n",
    "        fill=True,\n",
    "        fill_opacity=0.7\n",
    "    ).add_to(m)\n",
    "\n",
    "m\n",
    "\n",
    "m.save(OUTPUT_DIR / 'rooftops_no_brgy.html')"
   ]
  }
 ],
 "metadata": {
  "kernelspec": {
   "display_name": ".venv",
   "language": "python",
   "name": "python3"
  },
  "language_info": {
   "codemirror_mode": {
    "name": "ipython",
    "version": 3
   },
   "file_extension": ".py",
   "mimetype": "text/x-python",
   "name": "python",
   "nbconvert_exporter": "python",
   "pygments_lexer": "ipython3",
   "version": "3.11.8"
  }
 },
 "nbformat": 4,
 "nbformat_minor": 2
}
