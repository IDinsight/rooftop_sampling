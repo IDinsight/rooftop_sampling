{
 "cells": [
  {
   "cell_type": "markdown",
   "metadata": {},
   "source": [
    "# Overview\n",
    "\n",
    "This notebook helps test out whether the RHR results in equal probability of selection of households in the Philippines. Key steps:\n",
    "\n",
    "1. Randomly sample a small share of all rooftops and see how many google's snap to road methodology doesn't work on. Also, generate google map link for the points so that we can manually inspect them.\n",
    "2. Randomly sample X barangays and generate maps showing a) OSM street network, b) borders, and c) rooftop centroids.\n",
    "\n"
   ]
  },
  {
   "cell_type": "code",
   "execution_count": 2,
   "metadata": {},
   "outputs": [],
   "source": [
    "import geopandas as gpd\n",
    "import pandas as pd\n",
    "import osmnx as ox\n",
    "from pathlib import Path\n",
    "from shapely.geometry import Polygon\n",
    "import matplotlib.pyplot as plt\n",
    "import folium\n",
    "import os\n",
    "from tqdm import tqdm\n",
    "tqdm.pandas()\n",
    "from pin_drop_sampling2.utils import get_s2_cell_id, count_neighbors_in_radius, get_nearest_point_on_road, dist_in_meters"
   ]
  },
  {
   "cell_type": "code",
   "execution_count": 3,
   "metadata": {},
   "outputs": [],
   "source": [
    "DB_DIR = Path.home() / 'IDinsight Dropbox' / 'Random Walk Testing' \n",
    "PSU_FILE = DB_DIR / '01_Raw data'/ '03_Census' / 'Philippines' / 'barangay_w_borders.parquet'\n",
    "ROOFTOP_DIR = DB_DIR /'01_Raw data'/ '01_Rooftop'/'Philippines'\n",
    "OUTPUT_DIR = DB_DIR / '03_Output' / '06_RHR Simulations'"
   ]
  },
  {
   "cell_type": "code",
   "execution_count": 4,
   "metadata": {},
   "outputs": [
    {
     "data": {
      "text/plain": [
       "1189"
      ]
     },
     "execution_count": 4,
     "metadata": {},
     "output_type": "execute_result"
    }
   ],
   "source": [
    "rooftop_files = [str(file) for file in Path(ROOFTOP_DIR).rglob('*.parquet')]\n",
    "sampled_gdf = gpd.GeoDataFrame()\n",
    "for file in rooftop_files[1:2]:\n",
    "    rooftop_temp = gpd.read_parquet(file)\n",
    "    sample = rooftop_temp.sample(frac=0.0001, random_state=42)\n",
    "    sampled_gdf = pd.concat([sampled_gdf, sample], ignore_index=True)\n",
    "\n",
    "len(sampled_gdf)"
   ]
  },
  {
   "cell_type": "code",
   "execution_count": 5,
   "metadata": {},
   "outputs": [
    {
     "name": "stderr",
     "output_type": "stream",
     "text": [
      "  0%|          | 0/1189 [00:00<?, ?it/s]"
     ]
    },
    {
     "name": "stderr",
     "output_type": "stream",
     "text": [
      "100%|██████████| 1189/1189 [02:09<00:00,  9.20it/s]\n"
     ]
    }
   ],
   "source": [
    "# get the nearest point on road using Google maps API\n",
    "sampled_gdf['nearest_point_on_road'] = sampled_gdf.progress_apply(lambda x: get_nearest_point_on_road(x.geometry.centroid), axis=1)"
   ]
  },
  {
   "cell_type": "code",
   "execution_count": 6,
   "metadata": {},
   "outputs": [
    {
     "name": "stdout",
     "output_type": "stream",
     "text": [
      "0.1825063078216989\n"
     ]
    },
    {
     "name": "stderr",
     "output_type": "stream",
     "text": [
      "/var/folders/_b/2wf3gjnx42s4k_vs5n079mh40000gn/T/ipykernel_51478/1204385094.py:8: UserWarning: Geometry is in a geographic CRS. Results from 'centroid' are likely incorrect. Use 'GeoSeries.to_crs()' to re-project geometries to a projected CRS before this operation.\n",
      "\n",
      "  sampled_gdf_no_road['google_maps_directions_link'] = sampled_gdf_no_road.geometry.centroid.apply(lambda x: f\"https://www.google.com/maps?q={x.y},{x.x}\")\n",
      "/Users/douglasjohnson/Documents/code/pin_drop_sampling2/.venv/lib/python3.11/site-packages/geopandas/geodataframe.py:1819: SettingWithCopyWarning: \n",
      "A value is trying to be set on a copy of a slice from a DataFrame.\n",
      "Try using .loc[row_indexer,col_indexer] = value instead\n",
      "\n",
      "See the caveats in the documentation: https://pandas.pydata.org/pandas-docs/stable/user_guide/indexing.html#returning-a-view-versus-a-copy\n",
      "  super().__setitem__(key, value)\n"
     ]
    }
   ],
   "source": [
    "# create new geodataframe for all rows where sampled_gdf['nearest_point_on_road'] is None\n",
    "sampled_gdf_no_road = sampled_gdf[sampled_gdf['nearest_point_on_road'].isnull()]\n",
    "\n",
    "# print the proportion of points that are not on the road\n",
    "print(len(sampled_gdf_no_road)/len(sampled_gdf))\n",
    "\n",
    "# generate google maps link\n",
    "sampled_gdf_no_road['google_maps_directions_link'] = sampled_gdf_no_road.geometry.centroid.apply(lambda x: f\"https://www.google.com/maps?q={x.y},{x.x}\")\n",
    "\n",
    "# save the google maps link to a csv\n",
    "sampled_gdf_no_road[['google_maps_directions_link']].to_csv(OUTPUT_DIR / 'sample points not on road.csv')"
   ]
  },
  {
   "cell_type": "code",
   "execution_count": 8,
   "metadata": {},
   "outputs": [],
   "source": [
    "sampled_gdf['distance'] = sampled_gdf.apply(lambda x: dist_in_meters(x.geometry.centroid, x.nearest_point_on_road), axis=1)"
   ]
  }
 ],
 "metadata": {
  "kernelspec": {
   "display_name": ".venv",
   "language": "python",
   "name": "python3"
  },
  "language_info": {
   "codemirror_mode": {
    "name": "ipython",
    "version": 3
   },
   "file_extension": ".py",
   "mimetype": "text/x-python",
   "name": "python",
   "nbconvert_exporter": "python",
   "pygments_lexer": "ipython3",
   "version": "3.11.8"
  }
 },
 "nbformat": 4,
 "nbformat_minor": 2
}
