{
 "cells": [
  {
   "cell_type": "markdown",
   "metadata": {},
   "source": [
    "# Overview\n",
    "This notebook creates a barangay dataset with barangay borders (in cases where we have data on the barangay boundary data) and PCWHS. \n",
    "\n",
    "I use barangay data (with PCWHS designation) provided by Gio.\n",
    "\n",
    "I use barangay data from [here](https://github.com/altcoder/philippines-psgc-shapefiles) since it appears to be higher quality than the dataset on [HDX](https://data.humdata.org/dataset/cod-ab-phl/resource/12457689-6a86-4474-8032-5ca9464d38a8)\n",
    "\n"
   ]
  },
  {
   "cell_type": "code",
   "execution_count": 11,
   "metadata": {},
   "outputs": [],
   "source": [
    "import geopandas as gpd\n",
    "from pathlib import Path\n",
    "import pandas as pd\n",
    "from datetime import datetime\n",
    "from tqdm import tqdm\n",
    "tqdm.pandas()\n",
    "from pin_drop_sampling2.utils import get_s2_cell_id"
   ]
  },
  {
   "cell_type": "markdown",
   "metadata": {},
   "source": [
    "# Import and clean barangay borders"
   ]
  },
  {
   "cell_type": "code",
   "execution_count": 12,
   "metadata": {},
   "outputs": [],
   "source": [
    "DB_DIR = Path.home() / 'IDinsight Dropbox' / 'Random Walk Testing' \n",
    "ROOFTOP_DIR = DB_DIR /'01_Raw data'/ '01_Rooftop'/'Philippines'\n",
    "OUTPUT_DIR = DB_DIR / '03_Output' / '05_HPLS qual'\n",
    "\n",
    "timestamp = datetime.now().strftime(\"%Y%m%d_%H\")"
   ]
  },
  {
   "cell_type": "code",
   "execution_count": 13,
   "metadata": {},
   "outputs": [
    {
     "name": "stdout",
     "output_type": "stream",
     "text": [
      "Merged: 42001, Borders: 42017, Census: 42001, Rows from census without borders: 0\n"
     ]
    }
   ],
   "source": [
    "# import barangay census data, rename the PSGC column, and convert to numeric\n",
    "barangay_census = pd.read_stata(Path.home() / 'IDinsight Dropbox' / 'DOH HPLS Phase 2 CB Qual - ETF'/'1 Capacity Building'/'1 Sample Size Calculations'/'psgc_barangays.dta')\n",
    "barangay_census.rename(columns={'digitPSGC':'PSGC'}, inplace=True)\n",
    "barangay_census['PSGC'] = pd.to_numeric(barangay_census['PSGC'], errors='coerce')\n",
    "\n",
    "# import altcoder barangay borders data\n",
    "barangay_borders_altcoder = gpd.read_file(DB_DIR / '01_Raw data' / '02_Admin boundary data' / 'Philippines' / 'PH_Adm4_BgySubMuns.shp'/'PH_Adm4_BgySubMuns.shp.shp')\n",
    "barangay_borders_altcoder.rename(columns={'adm4_psgc':'PSGC'}, inplace=True)\n",
    "barangay_borders_altcoder.to_crs(epsg=4326, inplace=True)\n",
    "barangay_borders_altcoder = barangay_borders_altcoder[['PSGC', 'geometry']]\n",
    "\n",
    "# import hdx barangay borders data and clean it up. I DON'T USE THIS BUT AM KEEPING IT HERE FOR REFERENCE\n",
    "barangay_borders_hdx = gpd.read_file(DB_DIR / '01_Raw data' / '02_Admin boundary data' / 'Philippines' / 'phl_adm_psa_namria_20231106_shp'/'phl_admbnda_adm4_psa_namria_20231106.shp')\n",
    "barangay_borders_hdx['PSGC'] = pd.to_numeric(barangay_borders_hdx['ADM4_PCODE'].str[2:], errors='coerce')\n",
    "barangay_borders_hdx = barangay_borders_hdx[['PSGC', 'geometry']]\n",
    "# merge the two datasets\n",
    "barangays = barangay_census.merge(barangay_borders_altcoder, on=\"PSGC\", how ='left')\n",
    "\n",
    "# print the length of barangays, barangay_census, and barangay_borders\n",
    "print(f\"Merged: {len(barangays)}, Borders: {len(barangay_borders_altcoder)}, Census: {len(barangay_census)}, Rows from census without borders: {sum(barangays.geometry.isna())}\")\n",
    "\n",
    "# create barangays_w_borders by removing rows with no geometry\n",
    "barangays_w_borders = barangays[~barangays.geometry.isna()]\n",
    "\n",
    "# create barangays_wo_borcders by keeping rows with no geometry\n",
    "barangays_wo_borders = barangays[barangays.geometry.isna()]"
   ]
  },
  {
   "cell_type": "code",
   "execution_count": 15,
   "metadata": {},
   "outputs": [],
   "source": [
    "# turn it into a gdf with appropriate CRS\n",
    "barangays_w_borders = gpd.GeoDataFrame(barangays_w_borders, geometry='geometry', crs='EPSG:4326')\n",
    "barangays_w_borders.to_crs(epsg=4326, inplace=True)\n",
    "\n",
    "# get the s2 cell id for each barangay\n",
    "barangays_w_borders['s2_cell_id'] = barangays_w_borders.apply(lambda x: get_s2_cell_id(x.geometry.centroid, 4), axis=1)\n",
    "# save barangays_w_borders to file\n",
    "barangays_w_borders.to_parquet(DB_DIR / '01_Raw data'/'02_Admin boundary data'/'Philippines' / 'barangays_w_borders.parquet')\n",
    "\n",
    "# if len(barangays_wo_borders) > 0 save barangays_wo_borders to file\n",
    "if len(barangays_wo_borders) > 0:\n",
    "    barangays_wo_borders[['PSGC', 'brgy_name', 'reg_code', 'reg_name', 'prov_code', 'prov_name']].to_csv(DB_DIR / '01_Raw data'/'02_Admin boundary data'/'Philippines' / 'barangays_wo_borders.csv')"
   ]
  },
  {
   "cell_type": "markdown",
   "metadata": {},
   "source": [
    "# [OLD - NO LONGER NEEDED] Deal with Negros island barangays\n",
    "There used to be an issue merging the population data from Gio with the boundary data because the Negros region split and thus all of the PSGC codes changes. It seems like Gio has updated the population data with a new file and now it works fine without this code."
   ]
  },
  {
   "cell_type": "code",
   "execution_count": 5,
   "metadata": {},
   "outputs": [
    {
     "name": "stderr",
     "output_type": "stream",
     "text": [
      "/var/folders/_b/2wf3gjnx42s4k_vs5n079mh40000gn/T/ipykernel_11403/2134346047.py:3: SettingWithCopyWarning: \n",
      "A value is trying to be set on a copy of a slice from a DataFrame\n",
      "\n",
      "See the caveats in the documentation: https://pandas.pydata.org/pandas-docs/stable/user_guide/indexing.html#returning-a-view-versus-a-copy\n",
      "  census_no_map.drop(columns=['geometry'], inplace=True)\n",
      "/Users/douglasjohnson/Documents/code/pin_drop_sampling2/.venv/lib/python3.11/site-packages/geopandas/geodataframe.py:1819: SettingWithCopyWarning: \n",
      "A value is trying to be set on a copy of a slice from a DataFrame.\n",
      "Try using .loc[row_indexer,col_indexer] = value instead\n",
      "\n",
      "See the caveats in the documentation: https://pandas.pydata.org/pandas-docs/stable/user_guide/indexing.html#returning-a-view-versus-a-copy\n",
      "  super().__setitem__(key, value)\n"
     ]
    }
   ],
   "source": [
    "# create dataset of census data without borders and drop the geometry column\n",
    "census_no_map = barangays[barangays.geometry.isna()]\n",
    "census_no_map.drop(columns=['geometry'], inplace=True)\n",
    "\n",
    "# create dataset of borders without census data\n",
    "map_no_census = barangay_borders_altcoder[~barangay_borders_altcoder.PSGC.isin(barangays.PSGC)]\n",
    "\n",
    "# for any PSGC codes that are in the 60s or 70s, replace 60 or 70 with 180\n",
    "map_no_census['PSGC'] = map_no_census['PSGC'].astype(str)\n",
    "map_no_census['PSGC'] = map_no_census['PSGC'].apply(lambda x: '180' + x[2:] if x[:2] in ['60', '70'] else x)\n",
    "map_no_census['PSGC'] = pd.to_numeric(map_no_census['PSGC'])\n",
    "\n",
    "# merge the two datasets\n",
    "merged_negros = census_no_map.merge(map_no_census, on='PSGC', how='inner')\n",
    "\n",
    "# append merged_negros to barangays_w_borders\n",
    "barangays_w_borders = pd.concat([barangays_w_borders, merged_negros], ignore_index=True)"
   ]
  }
 ],
 "metadata": {
  "kernelspec": {
   "display_name": ".venv",
   "language": "python",
   "name": "python3"
  },
  "language_info": {
   "codemirror_mode": {
    "name": "ipython",
    "version": 3
   },
   "file_extension": ".py",
   "mimetype": "text/x-python",
   "name": "python",
   "nbconvert_exporter": "python",
   "pygments_lexer": "ipython3",
   "version": "3.11.8"
  }
 },
 "nbformat": 4,
 "nbformat_minor": 2
}
