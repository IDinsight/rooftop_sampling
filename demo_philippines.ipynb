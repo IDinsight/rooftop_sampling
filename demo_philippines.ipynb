{
 "cells": [
  {
   "cell_type": "markdown",
   "metadata": {},
   "source": [
    "# Overview\n",
    "\n",
    "This notebooks demonstrates how to perform pin drop sampling using barangays as PSUs for a single province in the Philippines. \n",
    "\n",
    "- you also need to download rooftop data --> mention that this has already been downloaded and the location and the issues with downloading it again from the VIDA website\n",
    "\n",
    "- \n"
   ]
  },
  {
   "cell_type": "code",
   "execution_count": 1,
   "metadata": {},
   "outputs": [],
   "source": [
    "%load_ext autoreload\n",
    "%autoreload 2"
   ]
  },
  {
   "cell_type": "code",
   "execution_count": 2,
   "metadata": {},
   "outputs": [],
   "source": [
    "import geopandas as gpd\n",
    "from pathlib import Path\n",
    "import pandas as pd\n",
    "from datetime import datetime\n",
    "import folium\n",
    "from tqdm import tqdm\n",
    "from pin_drop_sampling2.utils import get_s2_cell_id\n",
    "from pin_drop_sampling2.utils import count_neighbors_in_radius"
   ]
  },
  {
   "cell_type": "markdown",
   "metadata": {},
   "source": [
    "# Set file locations\n",
    "Set the location of the file with the PSU boundaries and population counts and the directory for the rooftop data files below."
   ]
  },
  {
   "cell_type": "code",
   "execution_count": 3,
   "metadata": {},
   "outputs": [
    {
     "data": {
      "text/html": [
       "<div>\n",
       "<style scoped>\n",
       "    .dataframe tbody tr th:only-of-type {\n",
       "        vertical-align: middle;\n",
       "    }\n",
       "\n",
       "    .dataframe tbody tr th {\n",
       "        vertical-align: top;\n",
       "    }\n",
       "\n",
       "    .dataframe thead th {\n",
       "        text-align: right;\n",
       "    }\n",
       "</style>\n",
       "<table border=\"1\" class=\"dataframe\">\n",
       "  <thead>\n",
       "    <tr style=\"text-align: right;\">\n",
       "      <th></th>\n",
       "      <th>PSGC</th>\n",
       "      <th>brgy_name</th>\n",
       "      <th>GeographicLevel</th>\n",
       "      <th>brgy_urbanrural</th>\n",
       "      <th>brgy_pop</th>\n",
       "      <th>Status</th>\n",
       "      <th>reg_code</th>\n",
       "      <th>prov_code</th>\n",
       "      <th>citymun_code</th>\n",
       "      <th>reg_name</th>\n",
       "      <th>...</th>\n",
       "      <th>adm1_psgc</th>\n",
       "      <th>adm2_psgc</th>\n",
       "      <th>adm3_psgc</th>\n",
       "      <th>adm4_en</th>\n",
       "      <th>geo_level</th>\n",
       "      <th>len_crs</th>\n",
       "      <th>area_crs</th>\n",
       "      <th>len_km</th>\n",
       "      <th>area_km2</th>\n",
       "      <th>geometry</th>\n",
       "    </tr>\n",
       "  </thead>\n",
       "  <tbody>\n",
       "    <tr>\n",
       "      <th>0</th>\n",
       "      <td>402103091</td>\n",
       "      <td>Talaba 3</td>\n",
       "      <td>Bgy</td>\n",
       "      <td>-</td>\n",
       "      <td>7464</td>\n",
       "      <td></td>\n",
       "      <td>0400000000</td>\n",
       "      <td>0402100000</td>\n",
       "      <td>0402103000</td>\n",
       "      <td>Region IV-A (CALABARZON)</td>\n",
       "      <td>...</td>\n",
       "      <td>400000000.0</td>\n",
       "      <td>402100000.0</td>\n",
       "      <td>402103000.0</td>\n",
       "      <td>Talaba 3</td>\n",
       "      <td>Bgy</td>\n",
       "      <td>2390.0</td>\n",
       "      <td>195646.0</td>\n",
       "      <td>2.0</td>\n",
       "      <td>0.0</td>\n",
       "      <td>POLYGON ((120.96283 14.46184, 120.96241 14.461...</td>\n",
       "    </tr>\n",
       "    <tr>\n",
       "      <th>1</th>\n",
       "      <td>402103092</td>\n",
       "      <td>Zapote 1</td>\n",
       "      <td>Bgy</td>\n",
       "      <td>-</td>\n",
       "      <td>10983</td>\n",
       "      <td></td>\n",
       "      <td>0400000000</td>\n",
       "      <td>0402100000</td>\n",
       "      <td>0402103000</td>\n",
       "      <td>Region IV-A (CALABARZON)</td>\n",
       "      <td>...</td>\n",
       "      <td>400000000.0</td>\n",
       "      <td>402100000.0</td>\n",
       "      <td>402103000.0</td>\n",
       "      <td>Zapote 1</td>\n",
       "      <td>Bgy</td>\n",
       "      <td>1680.0</td>\n",
       "      <td>135998.0</td>\n",
       "      <td>1.0</td>\n",
       "      <td>0.0</td>\n",
       "      <td>POLYGON ((120.9642 14.46274, 120.96384 14.4625...</td>\n",
       "    </tr>\n",
       "    <tr>\n",
       "      <th>2</th>\n",
       "      <td>402103093</td>\n",
       "      <td>Zapote 2</td>\n",
       "      <td>Bgy</td>\n",
       "      <td>-</td>\n",
       "      <td>4331</td>\n",
       "      <td></td>\n",
       "      <td>0400000000</td>\n",
       "      <td>0402100000</td>\n",
       "      <td>0402103000</td>\n",
       "      <td>Region IV-A (CALABARZON)</td>\n",
       "      <td>...</td>\n",
       "      <td>400000000.0</td>\n",
       "      <td>402100000.0</td>\n",
       "      <td>402103000.0</td>\n",
       "      <td>Zapote 2</td>\n",
       "      <td>Bgy</td>\n",
       "      <td>2192.0</td>\n",
       "      <td>118941.0</td>\n",
       "      <td>2.0</td>\n",
       "      <td>0.0</td>\n",
       "      <td>POLYGON ((120.96686 14.46325, 120.96723 14.462...</td>\n",
       "    </tr>\n",
       "    <tr>\n",
       "      <th>3</th>\n",
       "      <td>402103087</td>\n",
       "      <td>Real</td>\n",
       "      <td>Bgy</td>\n",
       "      <td>-</td>\n",
       "      <td>9981</td>\n",
       "      <td></td>\n",
       "      <td>0400000000</td>\n",
       "      <td>0402100000</td>\n",
       "      <td>0402103000</td>\n",
       "      <td>Region IV-A (CALABARZON)</td>\n",
       "      <td>...</td>\n",
       "      <td>400000000.0</td>\n",
       "      <td>402100000.0</td>\n",
       "      <td>402103000.0</td>\n",
       "      <td>Real</td>\n",
       "      <td>Bgy</td>\n",
       "      <td>5169.0</td>\n",
       "      <td>754994.0</td>\n",
       "      <td>5.0</td>\n",
       "      <td>0.0</td>\n",
       "      <td>POLYGON ((120.94616 14.4364, 120.94737 14.4365...</td>\n",
       "    </tr>\n",
       "    <tr>\n",
       "      <th>4</th>\n",
       "      <td>402103077</td>\n",
       "      <td>Aniban 2</td>\n",
       "      <td>Bgy</td>\n",
       "      <td>-</td>\n",
       "      <td>5180</td>\n",
       "      <td></td>\n",
       "      <td>0400000000</td>\n",
       "      <td>0402100000</td>\n",
       "      <td>0402103000</td>\n",
       "      <td>Region IV-A (CALABARZON)</td>\n",
       "      <td>...</td>\n",
       "      <td>400000000.0</td>\n",
       "      <td>402100000.0</td>\n",
       "      <td>402103000.0</td>\n",
       "      <td>Aniban 2</td>\n",
       "      <td>Bgy</td>\n",
       "      <td>2008.0</td>\n",
       "      <td>179642.0</td>\n",
       "      <td>2.0</td>\n",
       "      <td>0.0</td>\n",
       "      <td>POLYGON ((120.96776 14.46004, 120.96794 14.459...</td>\n",
       "    </tr>\n",
       "  </tbody>\n",
       "</table>\n",
       "<p>5 rows × 32 columns</p>\n",
       "</div>"
      ],
      "text/plain": [
       "        PSGC brgy_name GeographicLevel brgy_urbanrural  brgy_pop Status  \\\n",
       "0  402103091  Talaba 3             Bgy               -      7464          \n",
       "1  402103092  Zapote 1             Bgy               -     10983          \n",
       "2  402103093  Zapote 2             Bgy               -      4331          \n",
       "3  402103087      Real             Bgy               -      9981          \n",
       "4  402103077  Aniban 2             Bgy               -      5180          \n",
       "\n",
       "     reg_code   prov_code citymun_code                  reg_name  ...  \\\n",
       "0  0400000000  0402100000   0402103000  Region IV-A (CALABARZON)  ...   \n",
       "1  0400000000  0402100000   0402103000  Region IV-A (CALABARZON)  ...   \n",
       "2  0400000000  0402100000   0402103000  Region IV-A (CALABARZON)  ...   \n",
       "3  0400000000  0402100000   0402103000  Region IV-A (CALABARZON)  ...   \n",
       "4  0400000000  0402100000   0402103000  Region IV-A (CALABARZON)  ...   \n",
       "\n",
       "     adm1_psgc    adm2_psgc    adm3_psgc   adm4_en geo_level len_crs  \\\n",
       "0  400000000.0  402100000.0  402103000.0  Talaba 3       Bgy  2390.0   \n",
       "1  400000000.0  402100000.0  402103000.0  Zapote 1       Bgy  1680.0   \n",
       "2  400000000.0  402100000.0  402103000.0  Zapote 2       Bgy  2192.0   \n",
       "3  400000000.0  402100000.0  402103000.0      Real       Bgy  5169.0   \n",
       "4  400000000.0  402100000.0  402103000.0  Aniban 2       Bgy  2008.0   \n",
       "\n",
       "   area_crs len_km area_km2                                           geometry  \n",
       "0  195646.0    2.0      0.0  POLYGON ((120.96283 14.46184, 120.96241 14.461...  \n",
       "1  135998.0    1.0      0.0  POLYGON ((120.9642 14.46274, 120.96384 14.4625...  \n",
       "2  118941.0    2.0      0.0  POLYGON ((120.96686 14.46325, 120.96723 14.462...  \n",
       "3  754994.0    5.0      0.0  POLYGON ((120.94616 14.4364, 120.94737 14.4365...  \n",
       "4  179642.0    2.0      0.0  POLYGON ((120.96776 14.46004, 120.96794 14.459...  \n",
       "\n",
       "[5 rows x 32 columns]"
      ]
     },
     "execution_count": 3,
     "metadata": {},
     "output_type": "execute_result"
    }
   ],
   "source": [
    "DB_DIR = Path.home() / 'IDinsight Dropbox' / 'Random Walk Testing' \n",
    "PSU_FILE = DB_DIR / '01_Raw data'/ '03_Census' / 'Philippines' / 'barangay_w_borders.parquet'\n",
    "ROOFTOP_DIR = DB_DIR /'01_Raw data'/ '01_Rooftop'/'Philippines'\n",
    "OUTPUT_DIR = DB_DIR / '03_Output' / '05_HPLS qual'\n",
    "psus = gpd.read_parquet(PSU_FILE)\n",
    "psus.head()"
   ]
  },
  {
   "cell_type": "markdown",
   "metadata": {},
   "source": [
    "# Sample PSUs\n",
    "\n",
    "The following code samples 20 barangays per PSU (if there are more than 20 barangays). This code is mainly for demo purposes. I'm not 100% sure that this code works. PPS sampling can be surprisingly tricky and thus we might want to perform this step in Stata or R. We would also want to stratify by urban/rural status when we do this for real."
   ]
  },
  {
   "cell_type": "code",
   "execution_count": 5,
   "metadata": {},
   "outputs": [
    {
     "name": "stderr",
     "output_type": "stream",
     "text": [
      "/var/folders/_b/2wf3gjnx42s4k_vs5n079mh40000gn/T/ipykernel_5677/851008615.py:13: DeprecationWarning: DataFrameGroupBy.apply operated on the grouping columns. This behavior is deprecated, and in a future version of pandas the grouping columns will be excluded from the operation. Either pass `include_groups=False` to exclude the groupings or explicitly select the grouping columns after groupby to silence this warning.\n",
      "  sampled_barangays = psus.groupby('prov_code', group_keys=False).apply(pps_sample)\n"
     ]
    }
   ],
   "source": [
    "num_brgys_per = 3\n",
    "\n",
    "def pps_sample(group):\n",
    "    # Normalize the weights for the group\n",
    "    probabilities = group['brgy_pop'] / group['brgy_pop'].sum()\n",
    "    \n",
    "    num_to_sample = min(num_brgys_per, group.shape[0])\n",
    "\n",
    "    # Sample without replacement using the normalized weights\n",
    "    sampled_group = group.sample(n=num_to_sample, weights=probabilities, replace=False)\n",
    "    return sampled_group\n",
    "\n",
    "sampled_barangays = psus.groupby('prov_code', group_keys=False).apply(pps_sample)\n",
    "# save the sampled barangays\n",
    "timestamp = datetime.now().strftime(\"%Y%m%d_%H\")\n",
    "sampled_barangays.to_parquet(OUTPUT_DIR / f'samp_bars_{timestamp}.parquet')"
   ]
  },
  {
   "cell_type": "code",
   "execution_count": 12,
   "metadata": {},
   "outputs": [
    {
     "name": "stdout",
     "output_type": "stream",
     "text": [
      "There are 0 barangays with missing geometry\n"
     ]
    }
   ],
   "source": [
    "barangays_missing_geometry = sampled_barangays[sampled_barangays['geometry'].isna()]\n",
    "print(f'There are {len(barangays_missing_geometry)} barangays with missing geometry')\n",
    "\n",
    "# drop barangays with missing geometry\n",
    "timestamp = datetime.now().strftime('%Y%m%d_%H%M%S')\n",
    "sampled_barangays = sampled_barangays.dropna(subset=['geometry'])"
   ]
  },
  {
   "cell_type": "markdown",
   "metadata": {},
   "source": [
    "# Generate dataset of rooftops in sampled barangays\n",
    "The code below filters the rooftop data and generates a single dataset with only the rooftops within the sampled barangays. Note that a) this can take quite a bit of time and b) if any barangays happen to straddle more than one s2 cell only a portion of rooftops will be included. This is "
   ]
  },
  {
   "cell_type": "code",
   "execution_count": 34,
   "metadata": {},
   "outputs": [
    {
     "name": "stdout",
     "output_type": "stream",
     "text": [
      "\n",
      "Processing s2 cell 3715469692580659200\n"
     ]
    },
    {
     "name": "stderr",
     "output_type": "stream",
     "text": [
      "/var/folders/_b/2wf3gjnx42s4k_vs5n079mh40000gn/T/ipykernel_1157/345339898.py:18: UserWarning: Geometry is in a geographic CRS. Results from 'centroid' are likely incorrect. Use 'GeoSeries.to_crs()' to re-project geometries to a projected CRS before this operation.\n",
      "\n",
      "  rooftops_gdf['geometry'] = rooftops_gdf.geometry.centroid\n"
     ]
    },
    {
     "name": "stdout",
     "output_type": "stream",
     "text": [
      "........................................................................................................................................\n",
      "Processing s2 cell 3778520087363846144\n"
     ]
    },
    {
     "name": "stderr",
     "output_type": "stream",
     "text": [
      "/var/folders/_b/2wf3gjnx42s4k_vs5n079mh40000gn/T/ipykernel_1157/345339898.py:18: UserWarning: Geometry is in a geographic CRS. Results from 'centroid' are likely incorrect. Use 'GeoSeries.to_crs()' to re-project geometries to a projected CRS before this operation.\n",
      "\n",
      "  rooftops_gdf['geometry'] = rooftops_gdf.geometry.centroid\n"
     ]
    },
    {
     "name": "stdout",
     "output_type": "stream",
     "text": [
      "...\n",
      "Processing s2 cell 3724476891835400192\n"
     ]
    },
    {
     "name": "stderr",
     "output_type": "stream",
     "text": [
      "/var/folders/_b/2wf3gjnx42s4k_vs5n079mh40000gn/T/ipykernel_1157/345339898.py:18: UserWarning: Geometry is in a geographic CRS. Results from 'centroid' are likely incorrect. Use 'GeoSeries.to_crs()' to re-project geometries to a projected CRS before this operation.\n",
      "\n",
      "  rooftops_gdf['geometry'] = rooftops_gdf.geometry.centroid\n"
     ]
    },
    {
     "name": "stdout",
     "output_type": "stream",
     "text": [
      ".............................................................................\n",
      "Processing s2 cell 3679440895561695232\n"
     ]
    },
    {
     "name": "stderr",
     "output_type": "stream",
     "text": [
      "/var/folders/_b/2wf3gjnx42s4k_vs5n079mh40000gn/T/ipykernel_1157/345339898.py:18: UserWarning: Geometry is in a geographic CRS. Results from 'centroid' are likely incorrect. Use 'GeoSeries.to_crs()' to re-project geometries to a projected CRS before this operation.\n",
      "\n",
      "  rooftops_gdf['geometry'] = rooftops_gdf.geometry.centroid\n"
     ]
    },
    {
     "name": "stdout",
     "output_type": "stream",
     "text": [
      "..................................\n",
      "Processing s2 cell 3625397700033249280\n"
     ]
    },
    {
     "name": "stderr",
     "output_type": "stream",
     "text": [
      "/var/folders/_b/2wf3gjnx42s4k_vs5n079mh40000gn/T/ipykernel_1157/345339898.py:18: UserWarning: Geometry is in a geographic CRS. Results from 'centroid' are likely incorrect. Use 'GeoSeries.to_crs()' to re-project geometries to a projected CRS before this operation.\n",
      "\n",
      "  rooftops_gdf['geometry'] = rooftops_gdf.geometry.centroid\n"
     ]
    },
    {
     "name": "stdout",
     "output_type": "stream",
     "text": [
      "..............................................\n",
      "Processing s2 cell 3670433696306954240\n"
     ]
    },
    {
     "name": "stderr",
     "output_type": "stream",
     "text": [
      "/var/folders/_b/2wf3gjnx42s4k_vs5n079mh40000gn/T/ipykernel_1157/345339898.py:18: UserWarning: Geometry is in a geographic CRS. Results from 'centroid' are likely incorrect. Use 'GeoSeries.to_crs()' to re-project geometries to a projected CRS before this operation.\n",
      "\n",
      "  rooftops_gdf['geometry'] = rooftops_gdf.geometry.centroid\n"
     ]
    },
    {
     "name": "stdout",
     "output_type": "stream",
     "text": [
      "............................................\n",
      "Processing s2 cell 3616390500778508288\n"
     ]
    },
    {
     "name": "stderr",
     "output_type": "stream",
     "text": [
      "/var/folders/_b/2wf3gjnx42s4k_vs5n079mh40000gn/T/ipykernel_1157/345339898.py:18: UserWarning: Geometry is in a geographic CRS. Results from 'centroid' are likely incorrect. Use 'GeoSeries.to_crs()' to re-project geometries to a projected CRS before this operation.\n",
      "\n",
      "  rooftops_gdf['geometry'] = rooftops_gdf.geometry.centroid\n"
     ]
    },
    {
     "name": "stdout",
     "output_type": "stream",
     "text": [
      ".\n",
      "Processing s2 cell 3733484091090141184\n",
      "."
     ]
    },
    {
     "name": "stderr",
     "output_type": "stream",
     "text": [
      "/var/folders/_b/2wf3gjnx42s4k_vs5n079mh40000gn/T/ipykernel_1157/345339898.py:18: UserWarning: Geometry is in a geographic CRS. Results from 'centroid' are likely incorrect. Use 'GeoSeries.to_crs()' to re-project geometries to a projected CRS before this operation.\n",
      "\n",
      "  rooftops_gdf['geometry'] = rooftops_gdf.geometry.centroid\n"
     ]
    }
   ],
   "source": [
    "# get the s2 cell id for each barangay\n",
    "sampled_barangays['s2_cell_id'] = sampled_barangays.apply(lambda x: get_s2_cell_id(x.geometry.centroid, 4), axis=1)\n",
    "\n",
    "# create empty gdf to store rooftops\n",
    "all_rooftops = gpd.GeoDataFrame()\n",
    "\n",
    "# loop over each unique value of s2_cell_id. I loop over s2_cell_id first because loading the rooftop data for each s2 cell \n",
    "# takes a lot of time so I want to do it only once for each s2 cell\n",
    "pd.options.mode.chained_assignment = None  # turn off annoying copy of a df warning\n",
    "for s2_cell_id in sampled_barangays['s2_cell_id'].unique():\n",
    "    print(f\"\\nProcessing s2 cell {s2_cell_id}\")\n",
    "    # get the barangays in this s2 cell\n",
    "    barangays_in_s2_cell= sampled_barangays[sampled_barangays['s2_cell_id'] == s2_cell_id]\n",
    "    # load the rooftop data for this s2 cell\n",
    "    rooftops_gdf = gpd.read_parquet(ROOFTOP_DIR /f'{s2_cell_id}.parquet')\n",
    "    # replace geometry column with the centroid of the geometry\n",
    "    rooftops_gdf['geometry'] = rooftops_gdf.geometry.centroid\n",
    "\n",
    "    for item, row in barangays_in_s2_cell.iterrows():\n",
    "        # print a single dot without the newline character\n",
    "        print('.', end='')\n",
    "        # filter rooftops to only include those within the barangay\n",
    "        temp_rooftops = rooftops_gdf[rooftops_gdf.geometry.within(row.geometry)]\n",
    "        # set the psid for the rooftops\n",
    "        temp_rooftops['PSGC'] = row['PSGC']\n",
    "        temp_rooftops.to_crs(epsg=4326, inplace=True)\n",
    "        # try to append temp_rooftops to all_rooftops and catch a value error. if there is an error, print the crs of the two dataframes\n",
    "        try:\n",
    "            all_rooftops = gpd.GeoDataFrame(pd.concat([all_rooftops, temp_rooftops], ignore_index=True))\n",
    "        except ValueError:\n",
    "            print(f\"Error with s2 cell {s2_cell_id}\")\n",
    "            print(f\"temp_rooftops crs: {temp_rooftops.crs}\")\n",
    "            print(f\"all_rooftops crs: {all_rooftops.crs}\")\n",
    "            \n",
    "# save all rooftops to a parquet file in case I close this notebook or the kernel gets messed up\n",
    "all_rooftops.to_parquet(OUTPUT_DIR / f'all_roofs_samp_bars_{timestamp}.parquet')"
   ]
  },
  {
   "cell_type": "markdown",
   "metadata": {},
   "source": [
    "# Identify isolated rooftops\n",
    "We identify and filter out isolated rooftops with no other rooftops around. These rooftops may not have people living in or near them and could result in very high travel costs."
   ]
  },
  {
   "cell_type": "code",
   "execution_count": 4,
   "metadata": {},
   "outputs": [],
   "source": [
    "all_rooftops = gpd.read_parquet(OUTPUT_DIR / 'samp_roofs_20241029_142812.parquet')"
   ]
  },
  {
   "cell_type": "code",
   "execution_count": 5,
   "metadata": {},
   "outputs": [],
   "source": [
    "# identify isolated points to drop from sampling\n",
    "all_rooftops['neighbors'] = count_neighbors_in_radius(all_rooftops)\n",
    "all_rooftops['isolated'] = (all_rooftops['neighbors'] < 5)"
   ]
  },
  {
   "cell_type": "code",
   "execution_count": 7,
   "metadata": {},
   "outputs": [],
   "source": [
    "# remove isolated points from the rooftop data\n",
    "all_rooftops_wo_isolated = all_rooftops[~all_rooftops['isolated']]"
   ]
  },
  {
   "cell_type": "markdown",
   "metadata": {},
   "source": [
    "# Sample 4 rooftops from each barangay"
   ]
  },
  {
   "cell_type": "code",
   "execution_count": 8,
   "metadata": {},
   "outputs": [
    {
     "name": "stderr",
     "output_type": "stream",
     "text": [
      "/var/folders/_b/2wf3gjnx42s4k_vs5n079mh40000gn/T/ipykernel_16011/1718080806.py:2: DeprecationWarning: DataFrameGroupBy.apply operated on the grouping columns. This behavior is deprecated, and in a future version of pandas the grouping columns will be excluded from the operation. Either pass `include_groups=False` to exclude the groupings or explicitly select the grouping columns after groupby to silence this warning.\n",
      "  sampled_roofs = all_rooftops_wo_isolated.groupby('PSGC', group_keys=False).apply(lambda x: x.sample(n=min(4, x.shape[0])))\n"
     ]
    }
   ],
   "source": [
    "# sample up to 4 rooftops per barangay (or all if there are less than 4)\n",
    "sampled_points = all_rooftops_wo_isolated.groupby('PSGC', group_keys=False).apply(lambda x: x.sample(n=min(4, x.shape[0])))"
   ]
  },
  {
   "cell_type": "markdown",
   "metadata": {},
   "source": [
    "# Get nearest points on road "
   ]
  },
  {
   "cell_type": "code",
   "execution_count": null,
   "metadata": {},
   "outputs": [],
   "source": []
  },
  {
   "cell_type": "markdown",
   "metadata": {},
   "source": [
    "# Save sample outputs"
   ]
  },
  {
   "cell_type": "code",
   "execution_count": 9,
   "metadata": {},
   "outputs": [
    {
     "data": {
      "text/plain": [
       "1360"
      ]
     },
     "execution_count": 9,
     "metadata": {},
     "output_type": "execute_result"
    }
   ],
   "source": [
    "len(sampled_roofs)"
   ]
  }
 ],
 "metadata": {
  "kernelspec": {
   "display_name": ".venv",
   "language": "python",
   "name": "python3"
  },
  "language_info": {
   "codemirror_mode": {
    "name": "ipython",
    "version": 3
   },
   "file_extension": ".py",
   "mimetype": "text/x-python",
   "name": "python",
   "nbconvert_exporter": "python",
   "pygments_lexer": "ipython3",
   "version": "3.11.8"
  }
 },
 "nbformat": 4,
 "nbformat_minor": 2
}
