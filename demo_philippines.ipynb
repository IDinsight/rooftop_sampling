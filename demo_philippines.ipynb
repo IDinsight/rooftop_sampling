{
 "cells": [
  {
   "cell_type": "markdown",
   "metadata": {},
   "source": [
    "# Overview\n",
    "\n",
    "This notebooks demonstrates how to perform pin drop sampling in the Philippines using barangays as PSUs. "
   ]
  },
  {
   "cell_type": "code",
   "execution_count": 1,
   "metadata": {},
   "outputs": [],
   "source": [
    "%load_ext autoreload\n",
    "%autoreload 2"
   ]
  },
  {
   "cell_type": "code",
   "execution_count": 38,
   "metadata": {},
   "outputs": [],
   "source": [
    "import geopandas as gpd\n",
    "from pathlib import Path\n",
    "import pandas as pd\n",
    "from datetime import datetime\n",
    "import folium\n",
    "from tqdm import tqdm\n",
    "tqdm.pandas()\n",
    "from pin_drop_sampling2.utils import get_s2_cell_id, count_neighbors_in_radius, get_nearest_point_on_road, dist_in_meters"
   ]
  },
  {
   "cell_type": "markdown",
   "metadata": {},
   "source": [
    "# Set file locations\n",
    "Set the location of the file with the PSU boundaries and population counts and the directory for the rooftop data files below."
   ]
  },
  {
   "cell_type": "code",
   "execution_count": 48,
   "metadata": {},
   "outputs": [],
   "source": [
    "DB_DIR = Path.home() / 'IDinsight Dropbox' / 'Random Walk Testing' \n",
    "PSU_FILE = DB_DIR / '01_Raw data'/ '03_Census' / 'Philippines' / 'barangay_w_borders.parquet'\n",
    "ROOFTOP_DIR = DB_DIR /'01_Raw data'/ '01_Rooftop'/'Philippines'\n",
    "OUTPUT_DIR = DB_DIR / '03_Output' / '05_HPLS qual'\n",
    "\n",
    "timestamp = datetime.now().strftime(\"%Y%m%d_%H\")"
   ]
  },
  {
   "cell_type": "markdown",
   "metadata": {},
   "source": [
    "# Sample PSUs\n",
    "\n",
    "The code below samples num_brgs_per barangays in each PSU using PPS sampling without replacement."
   ]
  },
  {
   "cell_type": "code",
   "execution_count": 5,
   "metadata": {},
   "outputs": [
    {
     "name": "stderr",
     "output_type": "stream",
     "text": [
      "/var/folders/_b/2wf3gjnx42s4k_vs5n079mh40000gn/T/ipykernel_5677/851008615.py:13: DeprecationWarning: DataFrameGroupBy.apply operated on the grouping columns. This behavior is deprecated, and in a future version of pandas the grouping columns will be excluded from the operation. Either pass `include_groups=False` to exclude the groupings or explicitly select the grouping columns after groupby to silence this warning.\n",
      "  sampled_barangays = psus.groupby('prov_code', group_keys=False).apply(pps_sample)\n"
     ]
    }
   ],
   "source": [
    "psus = gpd.read_parquet(PSU_FILE)\n",
    "psus.head()\n",
    "\n",
    "num_brgys_per = 3\n",
    "\n",
    "def pps_sample(group):\n",
    "    # Normalize the weights for the group\n",
    "    probabilities = group['brgy_pop'] / group['brgy_pop'].sum()\n",
    "    \n",
    "    num_to_sample = min(num_brgys_per, group.shape[0])\n",
    "\n",
    "    # Sample without replacement using the normalized weights\n",
    "    sampled_group = group.sample(n=num_to_sample, weights=probabilities, replace=False)\n",
    "    return sampled_group\n",
    "\n",
    "sampled_barangays = psus.groupby('prov_code', group_keys=False).apply(pps_sample)\n",
    "# save the sampled barangays\n",
    "sampled_barangays.to_parquet(OUTPUT_DIR / f'samp_bars_{timestamp}.parquet')"
   ]
  },
  {
   "cell_type": "code",
   "execution_count": 12,
   "metadata": {},
   "outputs": [
    {
     "name": "stdout",
     "output_type": "stream",
     "text": [
      "There are 0 barangays with missing geometry\n"
     ]
    }
   ],
   "source": [
    "barangays_missing_geometry = sampled_barangays[sampled_barangays['geometry'].isna()]\n",
    "print(f'There are {len(barangays_missing_geometry)} barangays with missing geometry')\n",
    "\n",
    "# drop barangays with missing geometry\n",
    "timestamp = datetime.now().strftime('%Y%m%d_%H%M%S')\n",
    "sampled_barangays = sampled_barangays.dropna(subset=['geometry'])"
   ]
  },
  {
   "cell_type": "markdown",
   "metadata": {},
   "source": [
    "# Generate dataset of rooftops in sampled barangays\n",
    "The code below filters the rooftop data and generates a single dataset with only the rooftops within the sampled barangays. Note that a) this can take quite a bit of time and b) if any barangays happen to straddle more than one s2 cell only a portion of rooftops will be included. "
   ]
  },
  {
   "cell_type": "code",
   "execution_count": null,
   "metadata": {},
   "outputs": [],
   "source": [
    "# get the s2 cell id for each barangay\n",
    "sampled_barangays['s2_cell_id'] = sampled_barangays.apply(lambda x: get_s2_cell_id(x.geometry.centroid, 4), axis=1)\n",
    "\n",
    "# create empty gdf to store rooftops\n",
    "all_rooftops = gpd.GeoDataFrame()\n",
    "\n",
    "# loop over each unique value of s2_cell_id. I loop over s2_cell_id first because loading the rooftop data for each s2 cell \n",
    "# takes a lot of time so I want to do it only once for each s2 cell\n",
    "pd.options.mode.chained_assignment = None  # turn off annoying copy of a df warning\n",
    "for s2_cell_id in sampled_barangays['s2_cell_id'].unique():\n",
    "    print(f\"\\nProcessing s2 cell {s2_cell_id}\")\n",
    "    # get the barangays in this s2 cell\n",
    "    barangays_in_s2_cell= sampled_barangays[sampled_barangays['s2_cell_id'] == s2_cell_id]\n",
    "    # load the rooftop data for this s2 cell\n",
    "    rooftops_gdf = gpd.read_parquet(ROOFTOP_DIR /f'{s2_cell_id}.parquet')\n",
    "    # replace geometry column with the centroid of the geometry\n",
    "    rooftops_gdf['geometry'] = rooftops_gdf.geometry.centroid\n",
    "\n",
    "    for item, row in barangays_in_s2_cell.iterrows():\n",
    "        # print a single dot without the newline character\n",
    "        print('.', end='')\n",
    "        # filter rooftops to only include those within the barangay\n",
    "        temp_rooftops = rooftops_gdf[rooftops_gdf.geometry.within(row.geometry)]\n",
    "        # set the psid for the rooftops\n",
    "        temp_rooftops['PSGC'] = row['PSGC']\n",
    "        temp_rooftops.to_crs(epsg=4326, inplace=True)\n",
    "        # try to append temp_rooftops to all_rooftops and catch a value error. if there is an error, print the crs of the two dataframes\n",
    "        try:\n",
    "            all_rooftops = gpd.GeoDataFrame(pd.concat([all_rooftops, temp_rooftops], ignore_index=True))\n",
    "        except ValueError:\n",
    "            print(f\"Error with s2 cell {s2_cell_id}\")\n",
    "            print(f\"temp_rooftops crs: {temp_rooftops.crs}\")\n",
    "            print(f\"all_rooftops crs: {all_rooftops.crs}\")\n",
    "            \n",
    "# save all rooftops to a parquet file in case I close this notebook or the kernel gets messed up\n",
    "all_rooftops.to_parquet(OUTPUT_DIR / f'all_roofs_samp_bars_{timestamp}.parquet')"
   ]
  },
  {
   "cell_type": "markdown",
   "metadata": {},
   "source": [
    "# [Optional] Load rooftops in sampled barangays\n",
    "The code above is pretty time intensive. The line below loads in a previously created sample of rooftops. This may be useful if, for example, you don't have time to run all the steps in the notebook at once."
   ]
  },
  {
   "cell_type": "code",
   "execution_count": 4,
   "metadata": {},
   "outputs": [],
   "source": [
    "all_rooftops = gpd.read_parquet(OUTPUT_DIR / 'samp_roofs_20241029_142812.parquet')"
   ]
  },
  {
   "cell_type": "markdown",
   "metadata": {},
   "source": [
    "# Identify isolated rooftops\n",
    "We identify and filter out isolated rooftops with no other rooftops around. These rooftops may not have people living in or near them and could result in very high travel costs."
   ]
  },
  {
   "cell_type": "code",
   "execution_count": 5,
   "metadata": {},
   "outputs": [],
   "source": [
    "# identify isolated points to drop from sampling\n",
    "all_rooftops['neighbors'] = count_neighbors_in_radius(all_rooftops)\n",
    "all_rooftops['isolated'] = (all_rooftops['neighbors'] < 5)"
   ]
  },
  {
   "cell_type": "code",
   "execution_count": 6,
   "metadata": {},
   "outputs": [],
   "source": [
    "# remove isolated points from the rooftop data\n",
    "# all_rooftops_wo_isolated = all_rooftops[~all_rooftops['isolated']]\n",
    "all_rooftops_wo_isolated = all_rooftops"
   ]
  },
  {
   "cell_type": "markdown",
   "metadata": {},
   "source": [
    "# Sample 4 rooftops from each barangay"
   ]
  },
  {
   "cell_type": "code",
   "execution_count": 7,
   "metadata": {},
   "outputs": [
    {
     "name": "stderr",
     "output_type": "stream",
     "text": [
      "/var/folders/_b/2wf3gjnx42s4k_vs5n079mh40000gn/T/ipykernel_18928/387793214.py:2: DeprecationWarning: DataFrameGroupBy.apply operated on the grouping columns. This behavior is deprecated, and in a future version of pandas the grouping columns will be excluded from the operation. Either pass `include_groups=False` to exclude the groupings or explicitly select the grouping columns after groupby to silence this warning.\n",
      "  sampled_points = all_rooftops_wo_isolated.groupby('PSGC', group_keys=False).apply(lambda x: x.sample(n=min(4, x.shape[0])))\n"
     ]
    }
   ],
   "source": [
    "# sample up to 4 rooftops per barangay (or all if there are less than 4)\n",
    "sampled_points = all_rooftops_wo_isolated.groupby('PSGC', group_keys=False).apply(lambda x: x.sample(n=min(4, x.shape[0])))"
   ]
  },
  {
   "cell_type": "markdown",
   "metadata": {},
   "source": [
    "# Get nearest points on road "
   ]
  },
  {
   "cell_type": "code",
   "execution_count": 44,
   "metadata": {},
   "outputs": [
    {
     "name": "stderr",
     "output_type": "stream",
     "text": [
      "100%|██████████| 1366/1366 [03:13<00:00,  7.06it/s]\n"
     ]
    }
   ],
   "source": [
    "# for each point in the sampled points, get the nearest point on the road\n",
    "sampled_points['nearest_point_on_road'] = sampled_points.progress_apply(lambda x: get_nearest_point_on_road(x.geometry), axis=1)"
   ]
  },
  {
   "cell_type": "code",
   "execution_count": 45,
   "metadata": {},
   "outputs": [],
   "source": [
    "sampled_points['distance_to_road_m'] = sampled_points.apply(lambda x: dist_in_meters(x.geometry, x.nearest_point_on_road), axis=1)"
   ]
  },
  {
   "cell_type": "markdown",
   "metadata": {},
   "source": [
    "# Save sample outputs"
   ]
  },
  {
   "cell_type": "code",
   "execution_count": 68,
   "metadata": {},
   "outputs": [
    {
     "name": "stderr",
     "output_type": "stream",
     "text": [
      "/Users/douglasjohnson/Documents/code/pin_drop_sampling2/.venv/lib/python3.11/site-packages/geopandas/geodataframe.py:1819: SettingWithCopyWarning: \n",
      "A value is trying to be set on a copy of a slice from a DataFrame.\n",
      "Try using .loc[row_indexer,col_indexer] = value instead\n",
      "\n",
      "See the caveats in the documentation: https://pandas.pydata.org/pandas-docs/stable/user_guide/indexing.html#returning-a-view-versus-a-copy\n",
      "  super().__setitem__(key, value)\n",
      "/Users/douglasjohnson/Documents/code/pin_drop_sampling2/.venv/lib/python3.11/site-packages/geopandas/geodataframe.py:1819: SettingWithCopyWarning: \n",
      "A value is trying to be set on a copy of a slice from a DataFrame.\n",
      "Try using .loc[row_indexer,col_indexer] = value instead\n",
      "\n",
      "See the caveats in the documentation: https://pandas.pydata.org/pandas-docs/stable/user_guide/indexing.html#returning-a-view-versus-a-copy\n",
      "  super().__setitem__(key, value)\n",
      "/Users/douglasjohnson/Documents/code/pin_drop_sampling2/.venv/lib/python3.11/site-packages/geopandas/geodataframe.py:1819: SettingWithCopyWarning: \n",
      "A value is trying to be set on a copy of a slice from a DataFrame.\n",
      "Try using .loc[row_indexer,col_indexer] = value instead\n",
      "\n",
      "See the caveats in the documentation: https://pandas.pydata.org/pandas-docs/stable/user_guide/indexing.html#returning-a-view-versus-a-copy\n",
      "  super().__setitem__(key, value)\n",
      "/Users/douglasjohnson/Documents/code/pin_drop_sampling2/.venv/lib/python3.11/site-packages/geopandas/geodataframe.py:1819: SettingWithCopyWarning: \n",
      "A value is trying to be set on a copy of a slice from a DataFrame.\n",
      "Try using .loc[row_indexer,col_indexer] = value instead\n",
      "\n",
      "See the caveats in the documentation: https://pandas.pydata.org/pandas-docs/stable/user_guide/indexing.html#returning-a-view-versus-a-copy\n",
      "  super().__setitem__(key, value)\n",
      "/var/folders/_b/2wf3gjnx42s4k_vs5n079mh40000gn/T/ipykernel_18928/830034286.py:14: FutureWarning: Series.__getitem__ treating keys as positions is deprecated. In a future version, integer keys will always be treated as labels (consistent with DataFrame behavior). To access a value by position, use `ser.iloc[pos]`\n",
      "  ].apply(lambda x: f\"https://www.google.com/maps?q={x[0]},{x[1]}\", axis=1)\n"
     ]
    }
   ],
   "source": [
    "temp_samp_points = sampled_points[['PSGC', 'geometry', 'nearest_point_on_road', 'distance_to_road_m']]\n",
    "temp_samp_points['orig_lat'] = temp_samp_points['geometry'].y\n",
    "temp_samp_points['orig_lon'] = temp_samp_points['geometry'].x\n",
    "temp_samp_points['road_lat'] = temp_samp_points['nearest_point_on_road'].y\n",
    "temp_samp_points['road_lon'] = temp_samp_points['nearest_point_on_road'].x\n",
    "temp_samp_points = temp_samp_points.drop(columns=['geometry', 'nearest_point_on_road'])\n",
    "temp_samp_points['google_maps_directions_link'] = temp_samp_points.apply(\n",
    "    lambda row: f\"https://www.google.com/maps/dir/{row['orig_lat']},{row['orig_lon']}/{row['road_lat']},{row['road_lon']}\",\n",
    "    axis=1\n",
    ")\n",
    "# replace google_maps_directions_link with a link to just the original point if nearest_point_on_road is null\n",
    "temp_samp_points.loc[temp_samp_points['road_lat'].isna(), 'google_maps_directions_link'] = temp_samp_points.loc[\n",
    "    temp_samp_points['road_lat'].isna(), ['orig_lat', 'orig_lon']\n",
    "].apply(lambda x: f\"https://www.google.com/maps?q={x[0]},{x[1]}\", axis=1)\n",
    "\n",
    "\n",
    "# save the sampled points as csv\n",
    "temp_samp_points.to_excel(OUTPUT_DIR / f'samp_points_{timestamp}.xlsx', index=False)"
   ]
  }
 ],
 "metadata": {
  "kernelspec": {
   "display_name": ".venv",
   "language": "python",
   "name": "python3"
  },
  "language_info": {
   "codemirror_mode": {
    "name": "ipython",
    "version": 3
   },
   "file_extension": ".py",
   "mimetype": "text/x-python",
   "name": "python",
   "nbconvert_exporter": "python",
   "pygments_lexer": "ipython3",
   "version": "3.11.8"
  }
 },
 "nbformat": 4,
 "nbformat_minor": 2
}
