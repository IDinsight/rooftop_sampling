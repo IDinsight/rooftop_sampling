{
 "cells": [
  {
   "cell_type": "markdown",
   "metadata": {},
   "source": [
    "# Overview\n",
    "\n",
    "This notebook samples rooftops for the TFGH project. While some of the code in this notebook is specific to the TFGH project, much of the code can be reused for other projects. Note that our PSUs are barangays. \n",
    "\n",
    "Main steps in this notebook:\n",
    "\n",
    "1. Load list of sampled PSUs and filter rooftop data for rooftops located in sampled PSUs\n",
    "3. For each sampled PSU, sample 10 rooftops\n",
    "4. For each sampled rooftop, try to get the nearest point on a road\n",
    "5. Save outputs as kmls\n"
   ]
  },
  {
   "cell_type": "code",
   "execution_count": 19,
   "metadata": {},
   "outputs": [],
   "source": [
    "import geopandas as gpd\n",
    "from pathlib import Path\n",
    "import pandas as pd\n",
    "from tqdm import tqdm\n",
    "tqdm.pandas()\n",
    "from shapely.geometry import LineString\n",
    "from datetime import datetime\n",
    "from pin_drop_sampling2.utils import count_neighbors_in_radius, get_nearest_point_on_road, dist_in_meters, get_nearest_point_on_road_batch\n",
    "\n",
    "DB_DIR = Path.home() / 'IDinsight Dropbox' / 'Random Walk Testing' \n",
    "ROOFTOP_DIR = DB_DIR /'01_Raw data'/ '01_Rooftop'/'Philippines'\n",
    "OUTPUT_DIR = DB_DIR / '03_Output' / '10_TFGH'\n",
    "\n",
    "NUM_ROOFTOPS_PER_BRGY = 10\n",
    "\n",
    "timestamp = datetime.now().strftime(\"%Y%m%d_%H\")\n"
   ]
  },
  {
   "cell_type": "markdown",
   "metadata": {},
   "source": [
    "# Filter rooftop data for rooftops located in sampled PSUs\n"
   ]
  },
  {
   "cell_type": "code",
   "execution_count": 3,
   "metadata": {},
   "outputs": [
    {
     "name": "stdout",
     "output_type": "stream",
     "text": [
      "Processing 3715469692580659200_w_brgys\n",
      "Processing 3625397700033249280_w_brgys\n",
      "Processing 3733484091090141184_w_brgys\n",
      "Processing 3778520087363846144_w_brgys\n",
      "Processing 3724476891835400192_w_brgys\n",
      "Processing 3616390500778508288_w_brgys\n",
      "Processing 3670433696306954240_w_brgys\n",
      "Processing 3679440895561695232_w_brgys\n"
     ]
    }
   ],
   "source": [
    "sampled_brgys = pd.read_excel(DB_DIR / '01_Raw data' / '07_Sampled PSUs' / '[DQ] TFGH-CDC BeSD Master Database.xlsx', sheet_name= 'LIVE Brgy Database')\n",
    "sampled_brgys.rename(columns={'barangay_id': 'PSGC'}, inplace=True)\n",
    "# barangays_w_borders = gpd.read_parquet(DB_DIR / '01_Raw data'/'02_Admin boundary data'/'Philippines' / 'barangays_w_borders.parquet')\n",
    "\n",
    "rooftops_in_sampled_brgys = gpd.GeoDataFrame()\n",
    "for file in list(ROOFTOP_DIR.glob('*w_brgys.parquet')):\n",
    "    print(f\"Processing {file.stem}\")\n",
    "    df = gpd.read_parquet(file)\n",
    "    temp_rooftops = df[df['PSGC'].isin(sampled_brgys['PSGC'])]\n",
    "    rooftops_in_sampled_brgys = gpd.GeoDataFrame(pd.concat([rooftops_in_sampled_brgys, temp_rooftops], ignore_index=True))\n"
   ]
  },
  {
   "cell_type": "markdown",
   "metadata": {},
   "source": [
    "# For each sampled PSU, sample 10 rooftops"
   ]
  },
  {
   "cell_type": "code",
   "execution_count": 4,
   "metadata": {},
   "outputs": [
    {
     "name": "stdout",
     "output_type": "stream",
     "text": [
      "1500\n"
     ]
    },
    {
     "name": "stderr",
     "output_type": "stream",
     "text": [
      "/var/folders/_b/2wf3gjnx42s4k_vs5n079mh40000gn/T/ipykernel_28595/3049863581.py:1: DeprecationWarning: DataFrameGroupBy.apply operated on the grouping columns. This behavior is deprecated, and in a future version of pandas the grouping columns will be excluded from the operation. Either pass `include_groups=False` to exclude the groupings or explicitly select the grouping columns after groupby to silence this warning.\n",
      "  sampled_rooftops = rooftops_in_sampled_brgys.groupby('PSGC', group_keys=False).apply(lambda x: x.sample(n=min(NUM_ROOFTOPS_PER_BRGY, x.shape[0]), random_state = 42))\n"
     ]
    },
    {
     "data": {
      "text/html": [
       "<div>\n",
       "<style scoped>\n",
       "    .dataframe tbody tr th:only-of-type {\n",
       "        vertical-align: middle;\n",
       "    }\n",
       "\n",
       "    .dataframe tbody tr th {\n",
       "        vertical-align: top;\n",
       "    }\n",
       "\n",
       "    .dataframe thead th {\n",
       "        text-align: right;\n",
       "    }\n",
       "</style>\n",
       "<table border=\"1\" class=\"dataframe\">\n",
       "  <thead>\n",
       "    <tr style=\"text-align: right;\">\n",
       "      <th></th>\n",
       "      <th>geometry</th>\n",
       "      <th>index_right</th>\n",
       "      <th>PSGC</th>\n",
       "      <th>s2_cell_id</th>\n",
       "    </tr>\n",
       "  </thead>\n",
       "  <tbody>\n",
       "    <tr>\n",
       "      <th>27756</th>\n",
       "      <td>POINT (123.70513 13.15706)</td>\n",
       "      <td>1206.0</td>\n",
       "      <td>500503015.0</td>\n",
       "      <td>3.724477e+18</td>\n",
       "    </tr>\n",
       "  </tbody>\n",
       "</table>\n",
       "</div>"
      ],
      "text/plain": [
       "                         geometry  index_right         PSGC    s2_cell_id\n",
       "27756  POINT (123.70513 13.15706)       1206.0  500503015.0  3.724477e+18"
      ]
     },
     "execution_count": 4,
     "metadata": {},
     "output_type": "execute_result"
    }
   ],
   "source": [
    "sampled_rooftops = rooftops_in_sampled_brgys.groupby('PSGC', group_keys=False).apply(lambda x: x.sample(n=min(NUM_ROOFTOPS_PER_BRGY, x.shape[0]), random_state = 42))\n",
    "print(len(sampled_rooftops))\n",
    "sampled_rooftops.head(1)"
   ]
  },
  {
   "cell_type": "markdown",
   "metadata": {},
   "source": [
    "# For all sampled rooftops, try to get the nearest point on a road"
   ]
  },
  {
   "cell_type": "code",
   "execution_count": 8,
   "metadata": {},
   "outputs": [
    {
     "name": "stderr",
     "output_type": "stream",
     "text": [
      "100%|██████████| 1500/1500 [03:16<00:00,  7.62it/s]\n"
     ]
    }
   ],
   "source": [
    "sampled_rooftops['nearest_point_on_road'] = sampled_rooftops.progress_apply(lambda x: get_nearest_point_on_road(x.geometry), axis=1)\n",
    "sampled_rooftops['nearest_point_on_road'].isnull().sum()"
   ]
  },
  {
   "cell_type": "code",
   "execution_count": 11,
   "metadata": {},
   "outputs": [],
   "source": [
    "sampled_rooftops['distance_to_road_m'] = sampled_rooftops.apply(lambda x: dist_in_meters(x.geometry, x.nearest_point_on_road), axis=1)"
   ]
  },
  {
   "cell_type": "markdown",
   "metadata": {},
   "source": [
    "# Save sampled rooftops as csv with google map links"
   ]
  },
  {
   "cell_type": "code",
   "execution_count": 16,
   "metadata": {},
   "outputs": [
    {
     "name": "stderr",
     "output_type": "stream",
     "text": [
      "/Users/douglasjohnson/Documents/code/pin_drop_sampling2/.venv/lib/python3.11/site-packages/geopandas/geodataframe.py:1819: SettingWithCopyWarning: \n",
      "A value is trying to be set on a copy of a slice from a DataFrame.\n",
      "Try using .loc[row_indexer,col_indexer] = value instead\n",
      "\n",
      "See the caveats in the documentation: https://pandas.pydata.org/pandas-docs/stable/user_guide/indexing.html#returning-a-view-versus-a-copy\n",
      "  super().__setitem__(key, value)\n",
      "/var/folders/_b/2wf3gjnx42s4k_vs5n079mh40000gn/T/ipykernel_28595/2788524499.py:14: FutureWarning: Series.__getitem__ treating keys as positions is deprecated. In a future version, integer keys will always be treated as labels (consistent with DataFrame behavior). To access a value by position, use `ser.iloc[pos]`\n",
      "  ].apply(lambda x: f\"https://www.google.com/maps?q={x[0]},{x[1]}\", axis=1)\n"
     ]
    }
   ],
   "source": [
    "temp_samp_points = sampled_rooftops[['PSGC', 'geometry', 'nearest_point_on_road', 'distance_to_road_m']]\n",
    "temp_samp_points['orig_lat'] = temp_samp_points['geometry'].y\n",
    "temp_samp_points['orig_lon'] = temp_samp_points['geometry'].x\n",
    "temp_samp_points['road_lat'] = temp_samp_points['nearest_point_on_road'].y\n",
    "temp_samp_points['road_lon'] = temp_samp_points['nearest_point_on_road'].x\n",
    "temp_samp_points = temp_samp_points.drop(columns=['geometry', 'nearest_point_on_road'])\n",
    "temp_samp_points['google_maps_directions_link'] = temp_samp_points.apply(\n",
    "    lambda row: f\"https://www.google.com/maps/dir/{row['orig_lat']},{row['orig_lon']}/{row['road_lat']},{row['road_lon']}\",\n",
    "    axis=1\n",
    ")\n",
    "# replace google_maps_directions_link with a link to just the original point if nearest_point_on_road is null\n",
    "temp_samp_points.loc[temp_samp_points['road_lat'].isna(), 'google_maps_directions_link'] = temp_samp_points.loc[\n",
    "    temp_samp_points['road_lat'].isna(), ['orig_lat', 'orig_lon']\n",
    "].apply(lambda x: f\"https://www.google.com/maps?q={x[0]},{x[1]}\", axis=1)\n",
    "\n",
    "\n",
    "# save the sampled points as csv\n",
    "temp_samp_points.to_csv(OUTPUT_DIR / f'samp_points_{timestamp}.csv', index=False)"
   ]
  },
  {
   "cell_type": "markdown",
   "metadata": {},
   "source": [
    "# Save sampled rooftops as kml files"
   ]
  },
  {
   "cell_type": "code",
   "execution_count": 20,
   "metadata": {},
   "outputs": [
    {
     "name": "stderr",
     "output_type": "stream",
     "text": [
      "/Users/douglasjohnson/Documents/code/pin_drop_sampling2/.venv/lib/python3.11/site-packages/geopandas/geodataframe.py:1819: SettingWithCopyWarning: \n",
      "A value is trying to be set on a copy of a slice from a DataFrame.\n",
      "Try using .loc[row_indexer,col_indexer] = value instead\n",
      "\n",
      "See the caveats in the documentation: https://pandas.pydata.org/pandas-docs/stable/user_guide/indexing.html#returning-a-view-versus-a-copy\n",
      "  super().__setitem__(key, value)\n",
      "/Users/douglasjohnson/Documents/code/pin_drop_sampling2/.venv/lib/python3.11/site-packages/pyogrio/geopandas.py:662: UserWarning: 'crs' was not provided.  The output dataset will not have projection information defined and may not be usable in other systems.\n",
      "  write(\n",
      "/Users/douglasjohnson/Documents/code/pin_drop_sampling2/.venv/lib/python3.11/site-packages/pyogrio/geopandas.py:662: UserWarning: 'crs' was not provided.  The output dataset will not have projection information defined and may not be usable in other systems.\n",
      "  write(\n"
     ]
    }
   ],
   "source": [
    "sampled_points_on_road = sampled_rooftops[~(sampled_rooftops['nearest_point_on_road'].isnull())]\n",
    "sampled_points_off_road = sampled_rooftops[sampled_rooftops['nearest_point_on_road'].isnull()]\n",
    "\n",
    "# save lines between original points and nearest points on road\n",
    "sampled_points_on_road['line'] = sampled_points_on_road.apply(lambda row: LineString([row['geometry'], row['nearest_point_on_road']]), axis=1)\n",
    "lines_gdf = sampled_points_on_road[['line', 'PSGC',]]\n",
    "lines_gdf.to_file(OUTPUT_DIR / 'points_on_road_lines.kml', driver='KML')\n",
    "\n",
    "# save sampled points on road and urban as kml\n",
    "sampled_points_on_road[['nearest_point_on_road', 'PSGC']].to_file(OUTPUT_DIR / 'points_on_road.kml', driver='KML')\n",
    "\n",
    "# save sampled points off road as kml\n",
    "sampled_points_off_road[['geometry', 'PSGC']].to_file(OUTPUT_DIR / 'points_off_road.kml', driver='KML')\n"
   ]
  }
 ],
 "metadata": {
  "kernelspec": {
   "display_name": ".venv",
   "language": "python",
   "name": "python3"
  },
  "language_info": {
   "codemirror_mode": {
    "name": "ipython",
    "version": 3
   },
   "file_extension": ".py",
   "mimetype": "text/x-python",
   "name": "python",
   "nbconvert_exporter": "python",
   "pygments_lexer": "ipython3",
   "version": "3.11.8"
  }
 },
 "nbformat": 4,
 "nbformat_minor": 2
}
