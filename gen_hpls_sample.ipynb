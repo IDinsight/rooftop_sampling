{
 "cells": [
  {
   "cell_type": "markdown",
   "metadata": {},
   "source": [
    "# Overview\n",
    "\n",
    "This notebook selects 20 rooftops from each barangay."
   ]
  },
  {
   "cell_type": "code",
   "execution_count": 21,
   "metadata": {},
   "outputs": [],
   "source": [
    "import pandas as pd\n",
    "import geopandas as gpd\n",
    "from pathlib import Path"
   ]
  },
  {
   "cell_type": "code",
   "execution_count": 22,
   "metadata": {},
   "outputs": [],
   "source": [
    "DB_DIR = Path.home() / 'IDinsight Dropbox' / 'Random Walk Testing' \n",
    "ROOFTOP_DIR = DB_DIR /'01_Raw data'/ '01_Rooftop'/'Philippines'\n",
    "OUTPUT_DIR = DB_DIR / '03_Output' / '05_HPLS qual'\n",
    "\n",
    "timestamp = pd.Timestamp.now().strftime('%Y%m%d_%H%M%S')"
   ]
  },
  {
   "cell_type": "code",
   "execution_count": 23,
   "metadata": {},
   "outputs": [
    {
     "name": "stdout",
     "output_type": "stream",
     "text": [
      "Processing 3715469692580659200_w_brgys.parquet\n",
      "Processing 3625397700033249280_w_brgys.parquet\n",
      "Processing 3733484091090141184_w_brgys.parquet\n",
      "Processing 3778520087363846144_w_brgys.parquet\n",
      "Processing 3724476891835400192_w_brgys.parquet\n",
      "Processing 3616390500778508288_w_brgys.parquet\n",
      "Processing 3670433696306954240_w_brgys.parquet\n",
      "Processing 3679440895561695232_w_brgys.parquet\n"
     ]
    }
   ],
   "source": [
    "sampled = gpd.GeoDataFrame()\n",
    "\n",
    "# Loop over all files ending with \"w_brgys.parquet\" in ROOFTOP_DIR and sample up to 20 rows from each barangay\n",
    "for parquet_file in ROOFTOP_DIR.glob(\"*w_brgys.parquet\"):\n",
    "    # Read the parquet file\n",
    "    df = gpd.read_parquet(parquet_file)\n",
    "    \n",
    "    # Group by PSGC, then sample up to 20 rows from each group\n",
    "    temp_sampled = (\n",
    "        df.groupby(\"PSGC\")[['PSGC', 'geometry']]\n",
    "        .apply(lambda group: group.sample(n=min(len(group), 20), random_state=42))\n",
    "    )\n",
    "\n",
    "    # Append the sampled data to the output GeoDataFrame\n",
    "    sampled = pd.concat([sampled, temp_sampled])\n",
    "\n",
    "    print(f\"Processing {parquet_file.name}\")\n"
   ]
  },
  {
   "cell_type": "code",
   "execution_count": 24,
   "metadata": {},
   "outputs": [],
   "source": [
    "# for each barangay, sample 20 rooftops again since a very small share of barangays straddle S2 cell boundaries\n",
    "sampled.reset_index(drop=True, inplace=True)\n",
    "final_sampled = (\n",
    "        sampled.groupby(\"PSGC\")[['PSGC', 'geometry']]\n",
    "        .apply(lambda group: group.sample(n=min(len(group), 20), random_state=42))\n",
    "    )"
   ]
  },
  {
   "cell_type": "code",
   "execution_count": null,
   "metadata": {},
   "outputs": [],
   "source": [
    "# save final sampled as parquet and csv\n",
    "final_sampled.to_parquet(OUTPUT_DIR / f'sampled_rooftops_{timestamp}.parquet')\n",
    "\n",
    "# save final sampled as csv but create a lat and lon column\n",
    "final_sampled['lat'] = final_sampled.geometry.y\n",
    "final_sampled['lon'] = final_sampled.geometry.x\n",
    "final_sampled.drop(columns=['geometry']).to_csv(OUTPUT_DIR / f'sampled_rooftops_{timestamp}.csv', index=False)"
   ]
  }
 ],
 "metadata": {
  "kernelspec": {
   "display_name": ".venv",
   "language": "python",
   "name": "python3"
  },
  "language_info": {
   "codemirror_mode": {
    "name": "ipython",
    "version": 3
   },
   "file_extension": ".py",
   "mimetype": "text/x-python",
   "name": "python",
   "nbconvert_exporter": "python",
   "pygments_lexer": "ipython3",
   "version": "3.11.8"
  }
 },
 "nbformat": 4,
 "nbformat_minor": 2
}
