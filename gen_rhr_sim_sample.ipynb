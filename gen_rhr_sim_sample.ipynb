{
 "cells": [
  {
   "cell_type": "markdown",
   "metadata": {},
   "source": [
    "# Overview\n",
    "\n",
    "Generate a sample of barangays with rooftop and road data to use in testing out the RHR."
   ]
  },
  {
   "cell_type": "code",
   "execution_count": 3,
   "metadata": {},
   "outputs": [],
   "source": [
    "import geopandas as gpd\n",
    "from pathlib import Path\n",
    "import pandas as pd\n",
    "from datetime import datetime\n",
    "import folium\n",
    "import osmnx as ox\n",
    "from tqdm import tqdm\n",
    "tqdm.pandas()\n",
    "from pin_drop_sampling2.utils import get_s2_cell_id, count_neighbors_in_radius, get_nearest_point_on_road, dist_in_meters"
   ]
  },
  {
   "cell_type": "code",
   "execution_count": 4,
   "metadata": {},
   "outputs": [],
   "source": [
    "DB_DIR = Path.home() / 'IDinsight Dropbox' / 'Random Walk Testing' \n",
    "PSU_FILE = DB_DIR / '01_Raw data'/ '03_Census' / 'Philippines' / 'barangay_w_borders.parquet'\n",
    "ROOFTOP_DIR = DB_DIR /'01_Raw data'/ '01_Rooftop'/'Philippines'\n",
    "OUTPUT_DIR = DB_DIR / '03_Output' / '06_RHR Simulations'\n",
    "\n",
    "timestamp = datetime.now().strftime(\"%Y%m%d_%H\")\n",
    "\n",
    "# number of barangays to sample\n",
    "num_bars = 20\n"
   ]
  },
  {
   "cell_type": "markdown",
   "metadata": {},
   "source": [
    "# Sample barangays"
   ]
  },
  {
   "cell_type": "code",
   "execution_count": 5,
   "metadata": {},
   "outputs": [],
   "source": [
    "# load the psu file\n",
    "psus = gpd.read_parquet(PSU_FILE)\n",
    "\n",
    "# drop rows where geometry is null\n",
    "psus = psus.dropna(subset=['geometry'])\n",
    "\n",
    "# sample num_bars barangays using random state 42\n",
    "sampled_barangays = psus.sample(num_bars, random_state=42)"
   ]
  },
  {
   "cell_type": "markdown",
   "metadata": {},
   "source": [
    "# Get rooftop data for sampled barangay"
   ]
  },
  {
   "cell_type": "code",
   "execution_count": 6,
   "metadata": {},
   "outputs": [
    {
     "name": "stdout",
     "output_type": "stream",
     "text": [
      "\n",
      "Processing s2 cell 3724476891835400192\n"
     ]
    },
    {
     "name": "stderr",
     "output_type": "stream",
     "text": [
      "/var/folders/_b/2wf3gjnx42s4k_vs5n079mh40000gn/T/ipykernel_90095/3447124380.py:17: UserWarning: Geometry is in a geographic CRS. Results from 'centroid' are likely incorrect. Use 'GeoSeries.to_crs()' to re-project geometries to a projected CRS before this operation.\n",
      "\n",
      "  rooftops_gdf['geometry'] = rooftops_gdf.geometry.centroid\n"
     ]
    },
    {
     "name": "stdout",
     "output_type": "stream",
     "text": [
      "......\n",
      "Processing s2 cell 3679440895561695232\n"
     ]
    },
    {
     "name": "stderr",
     "output_type": "stream",
     "text": [
      "/var/folders/_b/2wf3gjnx42s4k_vs5n079mh40000gn/T/ipykernel_90095/3447124380.py:17: UserWarning: Geometry is in a geographic CRS. Results from 'centroid' are likely incorrect. Use 'GeoSeries.to_crs()' to re-project geometries to a projected CRS before this operation.\n",
      "\n",
      "  rooftops_gdf['geometry'] = rooftops_gdf.geometry.centroid\n"
     ]
    },
    {
     "name": "stdout",
     "output_type": "stream",
     "text": [
      "...\n",
      "Processing s2 cell 3715469692580659200\n"
     ]
    },
    {
     "name": "stderr",
     "output_type": "stream",
     "text": [
      "/var/folders/_b/2wf3gjnx42s4k_vs5n079mh40000gn/T/ipykernel_90095/3447124380.py:17: UserWarning: Geometry is in a geographic CRS. Results from 'centroid' are likely incorrect. Use 'GeoSeries.to_crs()' to re-project geometries to a projected CRS before this operation.\n",
      "\n",
      "  rooftops_gdf['geometry'] = rooftops_gdf.geometry.centroid\n"
     ]
    },
    {
     "name": "stdout",
     "output_type": "stream",
     "text": [
      "......\n",
      "Processing s2 cell 3625397700033249280\n"
     ]
    },
    {
     "name": "stderr",
     "output_type": "stream",
     "text": [
      "/var/folders/_b/2wf3gjnx42s4k_vs5n079mh40000gn/T/ipykernel_90095/3447124380.py:17: UserWarning: Geometry is in a geographic CRS. Results from 'centroid' are likely incorrect. Use 'GeoSeries.to_crs()' to re-project geometries to a projected CRS before this operation.\n",
      "\n",
      "  rooftops_gdf['geometry'] = rooftops_gdf.geometry.centroid\n"
     ]
    },
    {
     "name": "stdout",
     "output_type": "stream",
     "text": [
      "....."
     ]
    }
   ],
   "source": [
    "# get the s2 cell id for each barangay\n",
    "sampled_barangays['s2_cell_id'] = sampled_barangays.apply(lambda x: get_s2_cell_id(x.geometry.centroid, 4), axis=1)\n",
    "\n",
    "# create empty gdf to store rooftops\n",
    "all_rooftops = gpd.GeoDataFrame()\n",
    "\n",
    "# loop over each unique value of s2_cell_id. I loop over s2_cell_id first because loading the rooftop data for each s2 cell \n",
    "# takes a lot of time so I want to do it only once for each s2 cell\n",
    "pd.options.mode.chained_assignment = None  # turn off annoying copy of a df warning\n",
    "for s2_cell_id in sampled_barangays['s2_cell_id'].unique():\n",
    "    print(f\"\\nProcessing s2 cell {s2_cell_id}\")\n",
    "    # get the barangays in this s2 cell\n",
    "    barangays_in_s2_cell= sampled_barangays[sampled_barangays['s2_cell_id'] == s2_cell_id]\n",
    "    # load the rooftop data for this s2 cell\n",
    "    rooftops_gdf = gpd.read_parquet(ROOFTOP_DIR /f'{s2_cell_id}.parquet')\n",
    "    # replace geometry column with the centroid of the geometry\n",
    "    rooftops_gdf['geometry'] = rooftops_gdf.geometry.centroid\n",
    "\n",
    "    for item, row in barangays_in_s2_cell.iterrows():\n",
    "        # print a single dot without the newline character\n",
    "        print('.', end='')\n",
    "        # filter rooftops to only include those within the barangay\n",
    "        temp_rooftops = rooftops_gdf[rooftops_gdf.geometry.within(row.geometry)]\n",
    "        # set the psid for the rooftops\n",
    "        temp_rooftops['PSGC'] = row['PSGC']\n",
    "        temp_rooftops.to_crs(epsg=4326, inplace=True)\n",
    "        # try to append temp_rooftops to all_rooftops and catch a value error. if there is an error, print the crs of the two dataframes\n",
    "        try:\n",
    "            all_rooftops = gpd.GeoDataFrame(pd.concat([all_rooftops, temp_rooftops], ignore_index=True))\n",
    "        except ValueError:\n",
    "            print(f\"Error with s2 cell {s2_cell_id}\")\n",
    "            print(f\"temp_rooftops crs: {temp_rooftops.crs}\")\n",
    "            print(f\"all_rooftops crs: {all_rooftops.crs}\")\n",
    "            \n",
    "# save all rooftops to a parquet file in case I close this notebook or the kernel gets messed up\n",
    "all_rooftops.to_parquet(OUTPUT_DIR / f'all_roofs_samp_bars_{timestamp}.parquet')"
   ]
  },
  {
   "cell_type": "markdown",
   "metadata": {},
   "source": [
    "# Get OSM street network for sampled barangays"
   ]
  },
  {
   "cell_type": "code",
   "execution_count": 7,
   "metadata": {},
   "outputs": [
    {
     "name": "stdout",
     "output_type": "stream",
     "text": [
      "An error occurred: Graph contains no edges. for PSGC 504105001\n",
      "An error occurred: Found no graph nodes within the requested polygon. for PSGC 908307002\n",
      "An error occurred: Found no graph nodes within the requested polygon. for PSGC 1906609017\n",
      "An error occurred: Found no graph nodes within the requested polygon. for PSGC 803701034\n"
     ]
    }
   ],
   "source": [
    "# create an empty gdf to store the road network\n",
    "all_roads = gpd.GeoDataFrame()\n",
    "\n",
    "for item, row in sampled_barangays.iterrows():\n",
    "    polygon = row['geometry']\n",
    "    psgc = row['PSGC']\n",
    "\n",
    "    # Get the road network within the polygon\n",
    "    try:\n",
    "        G = ox.graph_from_polygon(polygon, network_type='all')\n",
    "    except Exception as e:\n",
    "        print(f\"An error occurred: {e} for PSGC {psgc}\")\n",
    "        continue\n",
    "\n",
    "    # Convert the road network to a GeoDataFrame\n",
    "    try:\n",
    "        gdf_nodes, gdf_edges = ox.graph_to_gdfs(G)\n",
    "    except Exception as e:\n",
    "        print(f\"An error occurred: {e} for PSGC {psgc}\")\n",
    "        continue\n",
    "    gdf_edges['PSGC'] = psgc\n",
    "    all_roads = gpd.GeoDataFrame(pd.concat([all_roads, gdf_edges], ignore_index=True))"
   ]
  },
  {
   "cell_type": "markdown",
   "metadata": {},
   "source": [
    "# Randomly sample 10 rooftops per barangay"
   ]
  },
  {
   "cell_type": "code",
   "execution_count": 8,
   "metadata": {},
   "outputs": [
    {
     "name": "stderr",
     "output_type": "stream",
     "text": [
      "/var/folders/_b/2wf3gjnx42s4k_vs5n079mh40000gn/T/ipykernel_90095/1753907083.py:2: DeprecationWarning: DataFrameGroupBy.apply operated on the grouping columns. This behavior is deprecated, and in a future version of pandas the grouping columns will be excluded from the operation. Either pass `include_groups=False` to exclude the groupings or explicitly select the grouping columns after groupby to silence this warning.\n",
      "  sampled = all_rooftops.groupby('PSGC', group_keys=False).apply(lambda x: x.sample(10, random_state=42))\n"
     ]
    }
   ],
   "source": [
    "# Group by 'PSGC' and sample 10 rows from each group\n",
    "sampled = all_rooftops.groupby('PSGC', group_keys=False).apply(lambda x: x.sample(10, random_state=42))\n",
    "\n",
    "# Create a new binary column and set the value to 1 for the sampled rows\n",
    "all_rooftops['Sampled'] = 0\n",
    "\n",
    "# Set Sampled to 1 if the row is in the sampled DataFrame\n",
    "all_rooftops.loc[sampled.index, 'Sampled'] = 1"
   ]
  },
  {
   "cell_type": "markdown",
   "metadata": {},
   "source": [
    "# Generate maps showing barangay borders, rooftop centroids, and road"
   ]
  },
  {
   "cell_type": "code",
   "execution_count": 9,
   "metadata": {},
   "outputs": [],
   "source": [
    "psgcs = all_roads['PSGC'].unique()\n",
    "\n",
    "for psgc in psgcs:\n",
    "    temp_rooftops = all_rooftops[all_rooftops['PSGC'] == psgc]\n",
    "    temp_roads = all_roads[all_roads['PSGC'] == psgc]\n",
    "    border = sampled_barangays[sampled_barangays['PSGC'] == psgc].geometry.iloc[0]\n",
    "\n",
    "    # Create a folium map centered at the centroid of the barangay\n",
    "    m = folium.Map(location=[border.centroid.y, border.centroid.x], zoom_start=15, tiles='https://server.arcgisonline.com/ArcGIS/rest/services/World_Imagery/MapServer/tile/{z}/{y}/{x}', attr='Esri')\n",
    "\n",
    "    # Add the barangay border to the map\n",
    "    folium.GeoJson(border).add_to(m)\n",
    "\n",
    "    # Add the rooftops to map. If the row is in the sampled DataFrame, set the color to red\n",
    "    for item, row in temp_rooftops.iterrows():\n",
    "        if row['Sampled'] == 1:\n",
    "            folium.CircleMarker(location=[row.geometry.y, row.geometry.x], color = 'blue', radius = 2).add_to(m)\n",
    "        else:\n",
    "            folium.CircleMarker(location=[row.geometry.y, row.geometry.x], color = 'blue', radius = 2).add_to(m)\n",
    "\n",
    "    # add the roads to the map\n",
    "    for _, row in temp_roads.iterrows():\n",
    "        folium.PolyLine(locations=[(point[1], point[0]) for point in row['geometry'].coords],\n",
    "                        color='black', weight=2.5, opacity=1).add_to(m)\n",
    "    # save the map\n",
    "    m.save(OUTPUT_DIR / f'{psgc}_map.html')\n",
    "        "
   ]
  }
 ],
 "metadata": {
  "kernelspec": {
   "display_name": ".venv",
   "language": "python",
   "name": "python3"
  },
  "language_info": {
   "codemirror_mode": {
    "name": "ipython",
    "version": 3
   },
   "file_extension": ".py",
   "mimetype": "text/x-python",
   "name": "python",
   "nbconvert_exporter": "python",
   "pygments_lexer": "ipython3",
   "version": "3.11.8"
  }
 },
 "nbformat": 4,
 "nbformat_minor": 2
}
