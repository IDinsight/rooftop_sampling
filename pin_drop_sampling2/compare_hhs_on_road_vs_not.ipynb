{
 "cells": [
  {
   "cell_type": "markdown",
   "metadata": {},
   "source": [
    "# Overview\n",
    "\n",
    "This notebook uses the google maps snap to road API to determine which households from the polling station dataset are on the road and which aren't. I then compare the demographics of the hhs on the road with those off the road and \n",
    "\n",
    "steps\n",
    "1. import the cleaned polling station data --> \n",
    "2. use the nsap"
   ]
  },
  {
   "cell_type": "code",
   "execution_count": 1,
   "metadata": {},
   "outputs": [],
   "source": [
    "import pandas as pd \n",
    "import geopandas as gpd\n",
    "from pathlib import Path\n",
    "import folium\n",
    "from shapely import Point, Polygon\n",
    "from pin_drop_sampling2.utils import get_nearest_point_on_road\n",
    "from tqdm import tqdm\n",
    "tqdm.pandas()\n",
    "\n",
    "DB_DIR = Path.home() / 'IDinsight Dropbox' / 'Random walk testing' \n",
    "INPUT_DIR = DB_DIR / '01_Raw data' / '05_Voter roll hh validation'"
   ]
  },
  {
   "cell_type": "markdown",
   "metadata": {},
   "source": [
    "## 1. Import voter roll datasets"
   ]
  },
  {
   "cell_type": "code",
   "execution_count": 3,
   "metadata": {},
   "outputs": [],
   "source": [
    "# import voter roll hh listing data \n",
    "hhs = gpd.read_parquet(INPUT_DIR / 'voter_rolls_clean.parquet')\n",
    "borders = gpd.read_parquet(INPUT_DIR / 'voter_rolls_clean_borders.parquet')\n",
    "rooftops = gpd.read_parquet(INPUT_DIR / 'voter_roll_rooftops.parquet')"
   ]
  },
  {
   "cell_type": "markdown",
   "metadata": {},
   "source": [
    "## 2. Get nearest point on road for each hh"
   ]
  },
  {
   "cell_type": "code",
   "execution_count": 5,
   "metadata": {},
   "outputs": [
    {
     "name": "stderr",
     "output_type": "stream",
     "text": [
      "100%|██████████| 2495/2495 [05:08<00:00,  8.08it/s]\n"
     ]
    }
   ],
   "source": [
    "hhs['nearest_point_on_road'] = hhs.progress_apply(lambda x: get_nearest_point_on_road(x.geometry.centroid), axis=1)"
   ]
  },
  {
   "cell_type": "code",
   "execution_count": 7,
   "metadata": {},
   "outputs": [],
   "source": [
    "# save the dataset since it takes a while to get the nearest point on the road\n",
    "hhs.to_parquet(INPUT_DIR / 'voter_rolls_clean_w_road_point.parquet')"
   ]
  },
  {
   "cell_type": "markdown",
   "metadata": {},
   "source": [
    "## 3. Compare hhs on road vs those not on road"
   ]
  },
  {
   "cell_type": "code",
   "execution_count": 6,
   "metadata": {},
   "outputs": [
    {
     "name": "stdout",
     "output_type": "stream",
     "text": [
      "0.20% of households are off the road\n"
     ]
    }
   ],
   "source": [
    "share_off_road = hhs['nearest_point_on_road'].isna().sum()/len(hhs)\n",
    "print(f'{share_off_road:.2%} of households are off the road')\n",
    "\n"
   ]
  }
 ],
 "metadata": {
  "kernelspec": {
   "display_name": ".venv",
   "language": "python",
   "name": "python3"
  },
  "language_info": {
   "codemirror_mode": {
    "name": "ipython",
    "version": 3
   },
   "file_extension": ".py",
   "mimetype": "text/x-python",
   "name": "python",
   "nbconvert_exporter": "python",
   "pygments_lexer": "ipython3",
   "version": "3.11.8"
  }
 },
 "nbformat": 4,
 "nbformat_minor": 2
}
